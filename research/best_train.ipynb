{
 "cells": [
  {
   "cell_type": "code",
   "execution_count": 1,
   "metadata": {},
   "outputs": [],
   "source": [
    "import os\n",
    "os.chdir(\"../\")"
   ]
  },
  {
   "cell_type": "code",
   "execution_count": 3,
   "metadata": {},
   "outputs": [
    {
     "data": {
      "text/plain": [
       "'c:\\\\Users\\\\mohamed\\\\Desktop\\\\stage pfe Orange\\\\orangePlatform - Copie\\\\orangePlatform'"
      ]
     },
     "execution_count": 3,
     "metadata": {},
     "output_type": "execute_result"
    }
   ],
   "source": [
    "%pwd"
   ]
  },
  {
   "cell_type": "code",
   "execution_count": 4,
   "metadata": {},
   "outputs": [],
   "source": [
    "from dataclasses import dataclass\n",
    "from pathlib import Path\n",
    "\n",
    "\n",
    "@dataclass(frozen=True)\n",
    "class Model_TrainerConfig:\n",
    "    root_dir: Path\n",
    "    train_data_path: Path\n",
    "    test_data_path: Path\n",
    "    num_lstm_units: float\n",
    "    learning_rate: float\n",
    "    epochs: float\n",
    "    early_stopping_patience: float\n",
    "    nsteps: float"
   ]
  },
  {
   "cell_type": "code",
   "execution_count": 5,
   "metadata": {},
   "outputs": [],
   "source": [
    "from orangePlatform.constants import *\n",
    "from orangePlatform.utils.common import read_yaml, create_directories"
   ]
  },
  {
   "cell_type": "code",
   "execution_count": 6,
   "metadata": {},
   "outputs": [],
   "source": [
    "class ConfigurationManager:\n",
    "    def __init__(\n",
    "        self,\n",
    "        config_filepath = CONFIG_FILE_PATH,\n",
    "        params_filepath = PARAMS_FILE_PATH,\n",
    "        schema_filepath = SCHEMA_FILE_PATH):\n",
    "\n",
    "        self.config = read_yaml(config_filepath)\n",
    "        self.params = read_yaml(params_filepath)\n",
    "        self.schema = read_yaml(schema_filepath)\n",
    "\n",
    "        create_directories([self.config.artifacts_root])\n",
    "\n",
    "\n",
    "    def get_best_model_trainer_config(self) -> Model_TrainerConfig:\n",
    "        config = self.config.best_model_trainer\n",
    "        params = self.params.ConvLSTM2D\n",
    "\n",
    "        create_directories([config.root_dir])\n",
    "\n",
    "        model_trainer_config = Model_TrainerConfig(\n",
    "            root_dir=config.root_dir,\n",
    "            train_data_path = config.train_data_path,\n",
    "            test_data_path = config.test_data_path,\n",
    "            num_lstm_units=params.num_lstm_units,\n",
    "            learning_rate=params.learning_rate,\n",
    "            epochs=params.epochs,\n",
    "            early_stopping_patience=params.early_stopping_patience,\n",
    "            nsteps=params.nsteps\n",
    "                    \n",
    "        )\n",
    "\n",
    "        return model_trainer_config"
   ]
  },
  {
   "cell_type": "code",
   "execution_count": 7,
   "metadata": {},
   "outputs": [],
   "source": [
    "import pandas as pd\n",
    "import os\n",
    "from orangePlatform import logger\n",
    "import joblib"
   ]
  },
  {
   "cell_type": "code",
   "execution_count": 8,
   "metadata": {},
   "outputs": [],
   "source": [
    "from numpy import array\n",
    "from keras.models import Sequential\n",
    "from keras.layers import LSTM, Dense, Flatten, TimeDistributed\n",
    "from keras.layers import ConvLSTM2D"
   ]
  },
  {
   "cell_type": "code",
   "execution_count": 9,
   "metadata": {},
   "outputs": [],
   "source": [
    "import numpy as np\n",
    "from tensorflow.keras.optimizers import Adam\n",
    "from tensorflow.keras.callbacks import EarlyStopping\n",
    "import yaml\n"
   ]
  },
  {
   "cell_type": "code",
   "execution_count": 10,
   "metadata": {},
   "outputs": [],
   "source": [
    "def create_lstm_model_3_layers(num_lstm_units, learning_rate, nsteps):\n",
    "    n_seq = 5\n",
    "    n_steps = int(nsteps // n_seq)\n",
    "    model = Sequential()\n",
    "    model.add(ConvLSTM2D(filters=num_lstm_units, kernel_size=(1, 2), activation='relu', padding='same', input_shape=(n_seq, 1, n_steps, 1), return_sequences=True))\n",
    "    model.add(ConvLSTM2D(filters=num_lstm_units//2, kernel_size=(1, 2), activation='relu', padding='same', return_sequences=True))\n",
    "    model.add(ConvLSTM2D(filters=num_lstm_units//4, kernel_size=(1, 2), activation='relu', padding='same'))\n",
    "    model.add(Flatten())\n",
    "    model.add(Dense(1))\n",
    "    optimizer = Adam(learning_rate=learning_rate)\n",
    "    model.compile(optimizer=optimizer, loss='mse')\n",
    "\n",
    "    return model"
   ]
  },
  {
   "cell_type": "code",
   "execution_count": 11,
   "metadata": {},
   "outputs": [],
   "source": [
    "def split_sequence(sequence, n_steps):\n",
    "\tX, y = list(), list()\n",
    "\tfor i in range(len(sequence)):\n",
    "\t\t# find the end of this pattern\n",
    "\t\tend_ix = i + n_steps\n",
    "\t\t# check if we are beyond the sequence\n",
    "\t\tif end_ix > len(sequence)-1:\n",
    "\t\t\tbreak\n",
    "\t\t# gather input and output parts of the pattern\n",
    "\t\tseq_x, seq_y = sequence[i:end_ix], sequence[end_ix]\n",
    "\t\tX.append(seq_x)\n",
    "\t\ty.append(seq_y)\n",
    "\treturn np.array(X), np.array(y)"
   ]
  },
  {
   "cell_type": "code",
   "execution_count": 12,
   "metadata": {},
   "outputs": [],
   "source": [
    "class BestModelTrainer:\n",
    "    def __init__(self, config: Model_TrainerConfig):\n",
    "        self.config = config\n",
    "\n",
    "    \n",
    "    def train(self):\n",
    "        train_data = pd.read_csv(self.config.train_data_path)\n",
    "        test_data = pd.read_csv(self.config.test_data_path)\n",
    "\n",
    "        train=train_data.values\n",
    "        test=test_data.values\n",
    "\n",
    "        hyperparams = {\n",
    "            'num_lstm_units': [256],\n",
    "            'learning_rate': [0.001],\n",
    "            'epochs': [100],\n",
    "            'early_stopping_patience': [10],\n",
    "            'nsteps': [10]\n",
    "        }\n",
    "        best_param={'num_lstm_units': 256, 'learning_rate': 0.001, 'epochs': 180, 'early_stopping_patience': 10, 'nsteps': 15}\n",
    "        loss=   1e+20\n",
    "        # Hyperparameter search loop\n",
    "        for num_lstm_units in hyperparams['num_lstm_units']:\n",
    "            for learning_rate in hyperparams['learning_rate']:\n",
    "                for epochs in hyperparams['epochs']:\n",
    "                    for early_stopping_patience in hyperparams['early_stopping_patience']:\n",
    "                        for nsteps in hyperparams['nsteps']:\n",
    "                        \n",
    "\n",
    "                            # Create and train the LSTM model\n",
    "                            model = create_lstm_model_3_layers(num_lstm_units, learning_rate, nsteps)\n",
    "                            X, y = split_sequence(train, nsteps)  # You need to define split_sequence\n",
    "                            n_features = 1\n",
    "                            n_seq =5\n",
    "                            n_steps = int(nsteps // n_seq)\n",
    "                            X = X.reshape((X.shape[0], n_seq, 1, n_steps, 1))\n",
    "                            X_val, y_val = split_sequence(test, nsteps)\n",
    "                            X_val = X_val.reshape((X_val.shape[0], n_seq, 1, n_steps, 1))\n",
    "                            # Define early stopping callback\n",
    "                            early_stopping = EarlyStopping(monitor='val_loss', patience=early_stopping_patience, restore_best_weights=True)\n",
    "                            # Train the model and log metrics using MLflow\n",
    "                            history = model.fit(X, y, epochs=epochs, validation_data=(X_val, y_val), callbacks=[early_stopping])\n",
    "                            if history.history['val_loss'][-1] < loss:\n",
    "                                loss = history.history['val_loss'][-1]\n",
    "                                best_param={'num_lstm_units': num_lstm_units, 'learning_rate': learning_rate, 'epochs': epochs, 'early_stopping_patience': early_stopping_patience, 'nsteps': nsteps}\n",
    "\n",
    "        \n",
    "           # Load the existing params.yaml file\n",
    "        with open('params.yaml', 'r') as file:\n",
    "            params = yaml.safe_load(file)\n",
    "\n",
    "# Update the parameters in the params dictionary\n",
    "        params['ConvLSTM2D'].update(best_param)\n",
    "\n",
    "# Write the updated parameters back to the params.yaml file\n",
    "        with open('params.yaml', 'w') as file:\n",
    "            yaml.dump(params, file, default_flow_style=False)\n",
    "                            \n",
    "\n",
    "\n"
   ]
  },
  {
   "cell_type": "code",
   "execution_count": 13,
   "metadata": {},
   "outputs": [
    {
     "name": "stdout",
     "output_type": "stream",
     "text": [
      "[2024-06-05 23:03:53,565: INFO: common: yaml file: config\\config.yaml loaded successfully]\n",
      "[2024-06-05 23:03:53,568: INFO: common: yaml file: params.yaml loaded successfully]\n",
      "[2024-06-05 23:03:53,570: INFO: common: yaml file: schema.yaml loaded successfully]\n",
      "[2024-06-05 23:03:53,571: INFO: common: created directory at: artifacts]\n",
      "[2024-06-05 23:03:53,573: INFO: common: created directory at: artifacts/best_model_trainer]\n",
      "Epoch 1/100\n",
      "10/10 [==============================] - 7s 112ms/step - loss: 0.2446 - val_loss: 0.2860\n",
      "Epoch 2/100\n",
      "10/10 [==============================] - 0s 48ms/step - loss: 0.0858 - val_loss: 0.0308\n",
      "Epoch 3/100\n",
      "10/10 [==============================] - 0s 48ms/step - loss: 0.0445 - val_loss: 0.0685\n",
      "Epoch 4/100\n",
      "10/10 [==============================] - 0s 48ms/step - loss: 0.0367 - val_loss: 0.0295\n",
      "Epoch 5/100\n",
      "10/10 [==============================] - 0s 48ms/step - loss: 0.0350 - val_loss: 0.0401\n",
      "Epoch 6/100\n",
      "10/10 [==============================] - 0s 48ms/step - loss: 0.0313 - val_loss: 0.0331\n",
      "Epoch 7/100\n",
      "10/10 [==============================] - 0s 48ms/step - loss: 0.0292 - val_loss: 0.0340\n",
      "Epoch 8/100\n",
      "10/10 [==============================] - 0s 47ms/step - loss: 0.0282 - val_loss: 0.0306\n",
      "Epoch 9/100\n",
      "10/10 [==============================] - 0s 48ms/step - loss: 0.0274 - val_loss: 0.0333\n",
      "Epoch 10/100\n",
      "10/10 [==============================] - 0s 48ms/step - loss: 0.0285 - val_loss: 0.0315\n",
      "Epoch 11/100\n",
      "10/10 [==============================] - 0s 50ms/step - loss: 0.0275 - val_loss: 0.0315\n",
      "Epoch 12/100\n",
      "10/10 [==============================] - 0s 48ms/step - loss: 0.0289 - val_loss: 0.0305\n",
      "Epoch 13/100\n",
      "10/10 [==============================] - 0s 48ms/step - loss: 0.0280 - val_loss: 0.0305\n",
      "Epoch 14/100\n",
      "10/10 [==============================] - 1s 54ms/step - loss: 0.0276 - val_loss: 0.0398\n"
     ]
    }
   ],
   "source": [
    "try:\n",
    "    config = ConfigurationManager()\n",
    "    model_trainer_config = config.get_best_model_trainer_config()\n",
    "    model_trainer_config = BestModelTrainer(config=model_trainer_config)\n",
    "    model_trainer_config.train()\n",
    "except Exception as e:\n",
    "    raise e"
   ]
  },
  {
   "cell_type": "code",
   "execution_count": null,
   "metadata": {},
   "outputs": [],
   "source": []
  }
 ],
 "metadata": {
  "kernelspec": {
   "display_name": "myenv",
   "language": "python",
   "name": "python3"
  },
  "language_info": {
   "codemirror_mode": {
    "name": "ipython",
    "version": 3
   },
   "file_extension": ".py",
   "mimetype": "text/x-python",
   "name": "python",
   "nbconvert_exporter": "python",
   "pygments_lexer": "ipython3",
   "version": "3.8.19"
  }
 },
 "nbformat": 4,
 "nbformat_minor": 2
}
