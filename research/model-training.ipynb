{
 "cells": [
  {
   "cell_type": "code",
   "execution_count": 1,
   "metadata": {},
   "outputs": [],
   "source": [
    "import os\n",
    "os.chdir(\"../\")"
   ]
  },
  {
   "cell_type": "code",
   "execution_count": 2,
   "metadata": {},
   "outputs": [],
   "source": [
    "from dataclasses import dataclass\n",
    "from pathlib import Path\n",
    "\n",
    "\n",
    "@dataclass(frozen=True)\n",
    "class ModelTrainerConfig:\n",
    "    root_dir: Path\n",
    "    train_data_path: Path\n",
    "    test_data_path: Path\n",
    "    model_name: str\n",
    "    num_lstm_units: float\n",
    "    learning_rate: float\n",
    "    epochs: float\n",
    "    early_stopping_patience: float\n",
    "    nsteps: float"
   ]
  },
  {
   "cell_type": "code",
   "execution_count": 3,
   "metadata": {},
   "outputs": [],
   "source": [
    "from orangePlatform.constants import *\n",
    "from orangePlatform.utils.common import read_yaml, create_directories"
   ]
  },
  {
   "cell_type": "code",
   "execution_count": 4,
   "metadata": {},
   "outputs": [],
   "source": [
    "class ConfigurationManager:\n",
    "    def __init__(\n",
    "        self,\n",
    "        config_filepath = CONFIG_FILE_PATH,\n",
    "        params_filepath = PARAMS_FILE_PATH,\n",
    "        schema_filepath = SCHEMA_FILE_PATH):\n",
    "\n",
    "        self.config = read_yaml(config_filepath)\n",
    "        self.params = read_yaml(params_filepath)\n",
    "        self.schema = read_yaml(schema_filepath)\n",
    "\n",
    "        create_directories([self.config.artifacts_root])\n",
    "\n",
    "\n",
    "    def get_model_trainer_config(self) -> ModelTrainerConfig:\n",
    "        config = self.config.model_trainer\n",
    "        params = self.params.ConvLSTM2D\n",
    "\n",
    "        create_directories([config.root_dir])\n",
    "\n",
    "        model_trainer_config = ModelTrainerConfig(\n",
    "            root_dir=config.root_dir,\n",
    "            train_data_path = config.train_data_path,\n",
    "            test_data_path = config.test_data_path,\n",
    "            model_name = config.model_name,\n",
    "            num_lstm_units=params.num_lstm_units,\n",
    "            learning_rate=params.learning_rate,\n",
    "            epochs=params.epochs,\n",
    "            early_stopping_patience=params.early_stopping_patience,\n",
    "            nsteps=params.nsteps\n",
    "                    \n",
    "        )\n",
    "\n",
    "        return model_trainer_config"
   ]
  },
  {
   "cell_type": "code",
   "execution_count": 5,
   "metadata": {},
   "outputs": [],
   "source": [
    "import pandas as pd\n",
    "import os\n",
    "from orangePlatform import logger\n",
    "import joblib"
   ]
  },
  {
   "cell_type": "code",
   "execution_count": 8,
   "metadata": {},
   "outputs": [],
   "source": [
    "from numpy import array\n",
    "from keras.models import Sequential\n",
    "from keras.layers import LSTM, Dense, Flatten, TimeDistributed\n",
    "from keras.layers import ConvLSTM2D"
   ]
  },
  {
   "cell_type": "code",
   "execution_count": 16,
   "metadata": {},
   "outputs": [],
   "source": [
    "import numpy as np\n",
    "from tensorflow.keras.optimizers import Adam\n",
    "from tensorflow.keras.callbacks import EarlyStopping\n"
   ]
  },
  {
   "cell_type": "code",
   "execution_count": 14,
   "metadata": {},
   "outputs": [],
   "source": [
    "def create_lstm_model(num_lstm_units, learning_rate, nsteps):\n",
    "    n_seq = 5\n",
    "    n_steps =int(nsteps // n_seq)\n",
    "    model = Sequential()\n",
    "    model.add(ConvLSTM2D(filters=num_lstm_units, kernel_size=(1,2), activation='relu', input_shape=(n_seq, 1, n_steps, 1)))\n",
    "    model.add(Flatten())\n",
    "    model.add(Dense(1))\n",
    "    optimizer = Adam(learning_rate=learning_rate)\n",
    "    model.compile(optimizer=optimizer, loss='mse')\n",
    "    \n",
    "\n",
    "    return model\n",
    "\n"
   ]
  },
  {
   "cell_type": "code",
   "execution_count": 15,
   "metadata": {},
   "outputs": [],
   "source": [
    "\n",
    "def split_sequence(sequence, n_steps):\n",
    "\tX, y = list(), list()\n",
    "\tfor i in range(len(sequence)):\n",
    "\t\t# find the end of this pattern\n",
    "\t\tend_ix = i + n_steps\n",
    "\t\t# check if we are beyond the sequence\n",
    "\t\tif end_ix > len(sequence)-1:\n",
    "\t\t\tbreak\n",
    "\t\t# gather input and output parts of the pattern\n",
    "\t\tseq_x, seq_y = sequence[i:end_ix], sequence[end_ix]\n",
    "\t\tX.append(seq_x)\n",
    "\t\ty.append(seq_y)\n",
    "\treturn np.array(X), np.array(y)"
   ]
  },
  {
   "cell_type": "code",
   "execution_count": 41,
   "metadata": {},
   "outputs": [],
   "source": [
    "class ModelTrainer:\n",
    "    def __init__(self, config: ModelTrainerConfig):\n",
    "        self.config = config\n",
    "\n",
    "    \n",
    "    def train(self):\n",
    "        train_data = pd.read_csv(self.config.train_data_path)\n",
    "        test_data = pd.read_csv(self.config.test_data_path)\n",
    "        train=train_data.values\n",
    "        test=test_data.values\n",
    "        print(type(test))\n",
    "        model = create_lstm_model(self.config.num_lstm_units, self.config.learning_rate, self.config.nsteps)\n",
    "        X, y = split_sequence(train, self.config.nsteps)  # You need to define split_sequence\n",
    "        n_features = 1\n",
    "        n_seq =5\n",
    "        n_steps = int(self.config.nsteps // n_seq)\n",
    "        X = X.reshape((X.shape[0], n_seq, 1, n_steps, 1))\n",
    "        X_val, y_val = split_sequence(test, self.config.nsteps)  # You need to define split_sequence\n",
    "        X_val = X_val.reshape((X_val.shape[0], n_seq, 1, n_steps, 1))\n",
    "                    # Define early stopping callback\n",
    "        early_stopping = EarlyStopping(monitor='val_loss', patience=self.config.early_stopping_patience, restore_best_weights=True)\n",
    "                    # Train the model and log metrics using MLflow\n",
    "        history = model.fit(X, y, epochs=self.config.epochs, validation_data=(X_val, y_val), callbacks=[early_stopping])\n",
    "        joblib.dump(model, os.path.join(self.config.root_dir, self.config.model_name))\n",
    "\n"
   ]
  },
  {
   "cell_type": "code",
   "execution_count": 42,
   "metadata": {},
   "outputs": [
    {
     "name": "stdout",
     "output_type": "stream",
     "text": [
      "[2024-05-11 00:53:26,763: INFO: common: yaml file: config\\config.yaml loaded successfully]\n",
      "[2024-05-11 00:53:26,766: INFO: common: yaml file: params.yaml loaded successfully]\n",
      "[2024-05-11 00:53:26,768: INFO: common: yaml file: schema.yaml loaded successfully]\n",
      "[2024-05-11 00:53:26,770: INFO: common: created directory at: artifacts]\n",
      "[2024-05-11 00:53:26,771: INFO: common: created directory at: artifacts/model_trainer]\n",
      "<class 'numpy.ndarray'>\n",
      "Epoch 1/200\n",
      "10/10 [==============================] - 3s 49ms/step - loss: 0.2517 - val_loss: 0.3270\n",
      "Epoch 2/200\n",
      "10/10 [==============================] - 0s 7ms/step - loss: 0.1533 - val_loss: 0.1791\n",
      "Epoch 3/200\n",
      "10/10 [==============================] - 0s 6ms/step - loss: 0.0681 - val_loss: 0.0490\n",
      "Epoch 4/200\n",
      "10/10 [==============================] - 0s 6ms/step - loss: 0.0304 - val_loss: 0.0317\n",
      "Epoch 5/200\n",
      "10/10 [==============================] - 0s 7ms/step - loss: 0.0309 - val_loss: 0.0309\n",
      "Epoch 6/200\n",
      "10/10 [==============================] - 0s 7ms/step - loss: 0.0265 - val_loss: 0.0353\n",
      "Epoch 7/200\n",
      "10/10 [==============================] - 0s 8ms/step - loss: 0.0264 - val_loss: 0.0315\n",
      "Epoch 8/200\n",
      "10/10 [==============================] - 0s 7ms/step - loss: 0.0259 - val_loss: 0.0288\n",
      "Epoch 9/200\n",
      "10/10 [==============================] - 0s 7ms/step - loss: 0.0252 - val_loss: 0.0308\n",
      "Epoch 10/200\n",
      "10/10 [==============================] - 0s 7ms/step - loss: 0.0249 - val_loss: 0.0298\n",
      "Epoch 11/200\n",
      "10/10 [==============================] - 0s 7ms/step - loss: 0.0248 - val_loss: 0.0288\n",
      "Epoch 12/200\n",
      "10/10 [==============================] - 0s 7ms/step - loss: 0.0244 - val_loss: 0.0299\n",
      "Epoch 13/200\n",
      "10/10 [==============================] - 0s 6ms/step - loss: 0.0243 - val_loss: 0.0290\n",
      "Epoch 14/200\n",
      "10/10 [==============================] - 0s 7ms/step - loss: 0.0239 - val_loss: 0.0301\n",
      "Epoch 15/200\n",
      "10/10 [==============================] - 0s 7ms/step - loss: 0.0237 - val_loss: 0.0288\n",
      "Epoch 16/200\n",
      "10/10 [==============================] - 0s 8ms/step - loss: 0.0237 - val_loss: 0.0290\n",
      "Epoch 17/200\n",
      "10/10 [==============================] - 0s 8ms/step - loss: 0.0235 - val_loss: 0.0291\n",
      "Epoch 18/200\n",
      "10/10 [==============================] - 0s 10ms/step - loss: 0.0236 - val_loss: 0.0288\n"
     ]
    }
   ],
   "source": [
    "try:\n",
    "    config = ConfigurationManager()\n",
    "    model_trainer_config = config.get_model_trainer_config()\n",
    "    model_trainer_config = ModelTrainer(config=model_trainer_config)\n",
    "    model_trainer_config.train()\n",
    "except Exception as e:\n",
    "    raise e"
   ]
  },
  {
   "cell_type": "code",
   "execution_count": null,
   "metadata": {},
   "outputs": [],
   "source": []
  }
 ],
 "metadata": {
  "kernelspec": {
   "display_name": "myenv",
   "language": "python",
   "name": "python3"
  },
  "language_info": {
   "codemirror_mode": {
    "name": "ipython",
    "version": 3
   },
   "file_extension": ".py",
   "mimetype": "text/x-python",
   "name": "python",
   "nbconvert_exporter": "python",
   "pygments_lexer": "ipython3",
   "version": "3.8.19"
  }
 },
 "nbformat": 4,
 "nbformat_minor": 2
}
