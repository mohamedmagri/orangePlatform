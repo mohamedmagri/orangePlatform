{
 "cells": [
  {
   "cell_type": "code",
   "execution_count": 2,
   "metadata": {},
   "outputs": [],
   "source": [
    "import os\n",
    "os.chdir(\"../\")"
   ]
  },
  {
   "cell_type": "code",
   "execution_count": 3,
   "metadata": {},
   "outputs": [],
   "source": [
    "from dataclasses import dataclass\n",
    "from pathlib import Path\n",
    "\n",
    "\n",
    "@dataclass(frozen=True)\n",
    "class DataPreparationConfig:\n",
    "    root_dir: Path\n",
    "    data_path: Path"
   ]
  },
  {
   "cell_type": "code",
   "execution_count": 4,
   "metadata": {},
   "outputs": [],
   "source": [
    "from orangePlatform.constants import *\n",
    "from orangePlatform.utils.common import read_yaml, create_directories"
   ]
  },
  {
   "cell_type": "code",
   "execution_count": 5,
   "metadata": {},
   "outputs": [],
   "source": [
    "class ConfigurationManager:\n",
    "    def __init__(\n",
    "        self,\n",
    "        config_filepath = CONFIG_FILE_PATH,\n",
    "        params_filepath = PARAMS_FILE_PATH,\n",
    "        schema_filepath = SCHEMA_FILE_PATH):\n",
    "\n",
    "        self.config = read_yaml(config_filepath)\n",
    "        self.params = read_yaml(params_filepath)\n",
    "        self.schema = read_yaml(schema_filepath)\n",
    "\n",
    "        create_directories([self.config.artifacts_root])\n",
    "\n",
    "\n",
    "    \n",
    "    def get_data_preparation_config(self) -> DataPreparationConfig:\n",
    "        config = self.config.data_preparation\n",
    "\n",
    "        create_directories([config.root_dir])\n",
    "\n",
    "        data_preparation_config = DataPreparationConfig(\n",
    "            root_dir=config.root_dir,\n",
    "            data_path=config.data_path,\n",
    "        )\n",
    "\n",
    "        return data_preparation_config"
   ]
  },
  {
   "cell_type": "code",
   "execution_count": 6,
   "metadata": {},
   "outputs": [],
   "source": [
    "import os\n",
    "from orangePlatform import logger\n",
    "from sklearn.model_selection import train_test_split\n",
    "import pandas as pd\n",
    "import numpy as np"
   ]
  },
  {
   "cell_type": "code",
   "execution_count": 7,
   "metadata": {},
   "outputs": [],
   "source": [
    "from sklearn.preprocessing import MinMaxScaler"
   ]
  },
  {
   "cell_type": "code",
   "execution_count": 8,
   "metadata": {},
   "outputs": [],
   "source": [
    "start_date = '03/23/2023'\n",
    "end_date = '03/21/2024'\n",
    "\n",
    "# Create a datetime range\n",
    "date_range = pd.date_range(start=start_date, end=end_date)\n",
    "\n",
    "# Create an empty DataFrame with the datetime index\n",
    "df_LTE = pd.DataFrame(index=date_range)"
   ]
  },
  {
   "cell_type": "code",
   "execution_count": 9,
   "metadata": {},
   "outputs": [],
   "source": [
    "class DataPreparation:\n",
    "    def __init__(self, config: DataPreparationConfig):\n",
    "        self.config = config\n",
    "\n",
    "    \n",
    "\n",
    "    def train_test_spliting(self):\n",
    "        data = pd.read_csv(self.config.data_path,index_col='Period')\n",
    "        df= data['LTE'].copy()\n",
    "        dates = pd.date_range(start='2022-03-23', periods=len(df), freq='D')\n",
    "        df = df.to_frame()\n",
    "        df.set_index(dates, inplace=True)\n",
    "        # Split the data into training and test sets. (0.75, 0.25) split.\n",
    "        train_lstm=df[:310]\n",
    "        test_lstm=df[310:]\n",
    "        scaler = MinMaxScaler()\n",
    "        scaler.fit(train_lstm)\n",
    "        scaled_train = scaler.transform(train_lstm)\n",
    "        scaled_test = scaler.transform(test_lstm)\n",
    "        scaled_trainn = pd.DataFrame(scaled_train,)\n",
    "        scaled_testt = pd.DataFrame(scaled_test)\n",
    "\n",
    "        scaled_trainn.to_csv(os.path.join(self.config.root_dir, \"train_LTE.csv\"),index = False)\n",
    "        scaled_testt.to_csv(os.path.join(self.config.root_dir, \"test_LTE.csv\"),index = False)\n",
    "\n",
    "        logger.info(\"Splited data into training and test sets\")\n",
    "        logger.info(scaled_train.shape)\n",
    "        logger.info(scaled_test.shape)\n",
    "\n",
    "        print(scaled_train.shape)\n",
    "        print(scaled_test.shape)\n",
    "        "
   ]
  },
  {
   "cell_type": "code",
   "execution_count": 10,
   "metadata": {},
   "outputs": [
    {
     "name": "stdout",
     "output_type": "stream",
     "text": [
      "[2024-05-11 00:06:40,536: INFO: common: yaml file: config\\config.yaml loaded successfully]\n",
      "[2024-05-11 00:06:40,538: INFO: common: yaml file: params.yaml loaded successfully]\n",
      "[2024-05-11 00:06:40,541: INFO: common: yaml file: schema.yaml loaded successfully]\n",
      "[2024-05-11 00:06:40,544: INFO: common: created directory at: artifacts]\n",
      "[2024-05-11 00:06:40,545: INFO: common: created directory at: artifacts/data_preparation]\n",
      "[2024-05-11 00:06:40,564: INFO: 3377883501: Splited data into training and test sets]\n",
      "[2024-05-11 00:06:40,564: INFO: 3377883501: (310, 1)]\n",
      "[2024-05-11 00:06:40,564: INFO: 3377883501: (55, 1)]\n",
      "(310, 1)\n",
      "(55, 1)\n"
     ]
    }
   ],
   "source": [
    "try:\n",
    "    config = ConfigurationManager()\n",
    "    data_preparation_config = config.get_data_preparation_config()\n",
    "    data_preparation = DataPreparation(config=data_preparation_config)\n",
    "    data_preparation.train_test_spliting()\n",
    "except Exception as e:\n",
    "    raise e"
   ]
  },
  {
   "cell_type": "code",
   "execution_count": null,
   "metadata": {},
   "outputs": [],
   "source": []
  }
 ],
 "metadata": {
  "kernelspec": {
   "display_name": "myenv",
   "language": "python",
   "name": "python3"
  },
  "language_info": {
   "codemirror_mode": {
    "name": "ipython",
    "version": 3
   },
   "file_extension": ".py",
   "mimetype": "text/x-python",
   "name": "python",
   "nbconvert_exporter": "python",
   "pygments_lexer": "ipython3",
   "version": "3.8.19"
  }
 },
 "nbformat": 4,
 "nbformat_minor": 2
}
